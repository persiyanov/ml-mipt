{
 "cells": [
  {
   "cell_type": "markdown",
   "metadata": {},
   "source": [
    "# Training MLP on MNIST with Keras\n",
    "\n",
    "Dmitry Persiyanov, 16.04.2016"
   ]
  },
  {
   "cell_type": "markdown",
   "metadata": {},
   "source": [
    "https://github.com/fchollet/keras\n",
    "\n",
    "https://keras.io\n",
    "\n",
    "https://github.com/fchollet/keras/blob/master/examples/mnist_mlp.py"
   ]
  },
  {
   "cell_type": "code",
   "execution_count": 9,
   "metadata": {
    "collapsed": true
   },
   "outputs": [],
   "source": [
    "%matplotlib inline\n",
    "import numpy as np\n",
    "import pandas as pd\n",
    "import keras\n",
    "import matplotlib.pyplot as plt\n",
    "from keras.utils import np_utils"
   ]
  },
  {
   "cell_type": "markdown",
   "metadata": {},
   "source": [
    "# Downloading dataset"
   ]
  },
  {
   "cell_type": "code",
   "execution_count": 2,
   "metadata": {
    "collapsed": true
   },
   "outputs": [],
   "source": [
    "from keras.datasets import mnist"
   ]
  },
  {
   "cell_type": "code",
   "execution_count": 3,
   "metadata": {
    "collapsed": false
   },
   "outputs": [],
   "source": [
    "(X_train, y_train), (X_test, y_test) = mnist.load_data()"
   ]
  },
  {
   "cell_type": "markdown",
   "metadata": {},
   "source": [
    "# Neural Net input is as vector of 784 pixel intensities => need to reshape data"
   ]
  },
  {
   "cell_type": "code",
   "execution_count": 4,
   "metadata": {
    "collapsed": false
   },
   "outputs": [
    {
     "name": "stdout",
     "output_type": "stream",
     "text": [
      "60000 train samples\n",
      "10000 test samples\n"
     ]
    }
   ],
   "source": [
    "X_train = X_train.reshape(60000, 784)\n",
    "X_test = X_test.reshape(10000, 784)\n",
    "X_train = X_train.astype('float32')\n",
    "X_test = X_test.astype('float32')\n",
    "X_train /= 255\n",
    "X_test /= 255\n",
    "print X_train.shape[0], 'train samples'\n",
    "print X_test.shape[0], 'test samples'"
   ]
  },
  {
   "cell_type": "markdown",
   "metadata": {},
   "source": [
    "# Need to prepare y_train, y_test"
   ]
  },
  {
   "cell_type": "code",
   "execution_count": 8,
   "metadata": {
    "collapsed": false
   },
   "outputs": [
    {
     "data": {
      "text/plain": [
       "array([5, 0, 4, 1, 9, 2, 1, 3, 1, 4], dtype=uint8)"
      ]
     },
     "execution_count": 8,
     "metadata": {},
     "output_type": "execute_result"
    }
   ],
   "source": [
    "y_train[:10]"
   ]
  },
  {
   "cell_type": "code",
   "execution_count": 10,
   "metadata": {
    "collapsed": false
   },
   "outputs": [
    {
     "name": "stdout",
     "output_type": "stream",
     "text": [
      "Help on function to_categorical in module keras.utils.np_utils:\n",
      "\n",
      "to_categorical(y, nb_classes=None)\n",
      "    Convert class vector (integers from 0 to nb_classes)\n",
      "    to binary class matrix, for use with categorical_crossentropy.\n",
      "\n"
     ]
    }
   ],
   "source": [
    "help(np_utils.to_categorical)"
   ]
  },
  {
   "cell_type": "code",
   "execution_count": 11,
   "metadata": {
    "collapsed": true
   },
   "outputs": [],
   "source": [
    "nb_classes = 10\n",
    "# convert class vectors to binary class matrices\n",
    "Y_train = np_utils.to_categorical(y_train, nb_classes)\n",
    "Y_test = np_utils.to_categorical(y_test, nb_classes)"
   ]
  },
  {
   "cell_type": "markdown",
   "metadata": {},
   "source": [
    "# Setting up a Neural Network"
   ]
  },
  {
   "cell_type": "code",
   "execution_count": 20,
   "metadata": {
    "collapsed": false
   },
   "outputs": [],
   "source": [
    "from keras.models import Sequential\n",
    "from keras.layers.core import Dense, Dropout, Activation\n",
    "from keras.optimizers import SGD"
   ]
  },
  {
   "cell_type": "code",
   "execution_count": 13,
   "metadata": {
    "collapsed": true
   },
   "outputs": [],
   "source": [
    "batch_size = 128\n",
    "nb_epoch = 20"
   ]
  },
  {
   "cell_type": "code",
   "execution_count": 16,
   "metadata": {
    "collapsed": false
   },
   "outputs": [
    {
     "name": "stdout",
     "output_type": "stream",
     "text": [
      "____________________________________________________________________________________________________\n",
      "Layer (type)                       Output Shape        Param #     Connected to                     \n",
      "====================================================================================================\n",
      "dense_1 (Dense)                    (None, 512)         401920      dense_input_1[0][0]              \n",
      "____________________________________________________________________________________________________\n",
      "activation_1 (Activation)          (None, 512)         0           dense_1[0][0]                    \n",
      "____________________________________________________________________________________________________\n",
      "dropout_1 (Dropout)                (None, 512)         0           activation_1[0][0]               \n",
      "____________________________________________________________________________________________________\n",
      "dense_2 (Dense)                    (None, 512)         262656      dropout_1[0][0]                  \n",
      "____________________________________________________________________________________________________\n",
      "activation_2 (Activation)          (None, 512)         0           dense_2[0][0]                    \n",
      "____________________________________________________________________________________________________\n",
      "dropout_2 (Dropout)                (None, 512)         0           activation_2[0][0]               \n",
      "____________________________________________________________________________________________________\n",
      "dense_3 (Dense)                    (None, 10)          5130        dropout_2[0][0]                  \n",
      "____________________________________________________________________________________________________\n",
      "activation_3 (Activation)          (None, 10)          0           dense_3[0][0]                    \n",
      "====================================================================================================\n",
      "Total params: 669706\n",
      "____________________________________________________________________________________________________\n"
     ]
    }
   ],
   "source": [
    "model = Sequential()\n",
    "model.add(Dense(512, input_shape=(784,)))\n",
    "model.add(Activation('relu'))\n",
    "model.add(Dropout(0.2))\n",
    "model.add(Dense(512))\n",
    "model.add(Activation('relu'))\n",
    "model.add(Dropout(0.2))\n",
    "model.add(Dense(10))\n",
    "model.add(Activation('softmax'))\n",
    "\n",
    "model.summary()"
   ]
  },
  {
   "cell_type": "code",
   "execution_count": 22,
   "metadata": {
    "collapsed": false
   },
   "outputs": [
    {
     "name": "stdout",
     "output_type": "stream",
     "text": [
      "Train on 60000 samples, validate on 10000 samples\n",
      "Epoch 1/20\n",
      "60000/60000 [==============================] - 8s - loss: 0.4534 - acc: 0.8681 - val_loss: 0.2203 - val_acc: 0.9376\n",
      "Epoch 2/20\n",
      "60000/60000 [==============================] - 7s - loss: 0.2138 - acc: 0.9365 - val_loss: 0.1505 - val_acc: 0.9561\n",
      "Epoch 3/20\n",
      "60000/60000 [==============================] - 9s - loss: 0.1604 - acc: 0.9530 - val_loss: 0.1227 - val_acc: 0.9624\n",
      "Epoch 4/20\n",
      "60000/60000 [==============================] - 8s - loss: 0.1305 - acc: 0.9622 - val_loss: 0.1018 - val_acc: 0.9688\n",
      "Epoch 5/20\n",
      "60000/60000 [==============================] - 8s - loss: 0.1095 - acc: 0.9678 - val_loss: 0.0921 - val_acc: 0.9721\n",
      "Epoch 6/20\n",
      "60000/60000 [==============================] - 8s - loss: 0.0965 - acc: 0.9709 - val_loss: 0.0838 - val_acc: 0.9733\n",
      "Epoch 7/20\n",
      "60000/60000 [==============================] - 7s - loss: 0.0835 - acc: 0.9756 - val_loss: 0.0777 - val_acc: 0.9753\n",
      "Epoch 8/20\n",
      "60000/60000 [==============================] - 7s - loss: 0.0754 - acc: 0.9768 - val_loss: 0.0714 - val_acc: 0.9778\n",
      "Epoch 9/20\n",
      "60000/60000 [==============================] - 7s - loss: 0.0674 - acc: 0.9788 - val_loss: 0.0703 - val_acc: 0.9774\n",
      "Epoch 10/20\n",
      "60000/60000 [==============================] - 8s - loss: 0.0603 - acc: 0.9820 - val_loss: 0.0685 - val_acc: 0.9792\n",
      "Epoch 11/20\n",
      "60000/60000 [==============================] - 8s - loss: 0.0548 - acc: 0.9833 - val_loss: 0.0649 - val_acc: 0.9797\n",
      "Epoch 12/20\n",
      "60000/60000 [==============================] - 7s - loss: 0.0489 - acc: 0.9854 - val_loss: 0.0615 - val_acc: 0.9802\n",
      "Epoch 13/20\n",
      "60000/60000 [==============================] - 7s - loss: 0.0466 - acc: 0.9858 - val_loss: 0.0599 - val_acc: 0.9802\n",
      "Epoch 14/20\n",
      "60000/60000 [==============================] - 8s - loss: 0.0426 - acc: 0.9868 - val_loss: 0.0600 - val_acc: 0.9803\n",
      "Epoch 15/20\n",
      "60000/60000 [==============================] - 8s - loss: 0.0395 - acc: 0.9879 - val_loss: 0.0572 - val_acc: 0.9817\n",
      "Epoch 16/20\n",
      "60000/60000 [==============================] - 8s - loss: 0.0356 - acc: 0.9892 - val_loss: 0.0595 - val_acc: 0.9808\n",
      "Epoch 17/20\n",
      "60000/60000 [==============================] - 9s - loss: 0.0333 - acc: 0.9897 - val_loss: 0.0606 - val_acc: 0.9806\n",
      "Epoch 18/20\n",
      "60000/60000 [==============================] - 9s - loss: 0.0308 - acc: 0.9907 - val_loss: 0.0567 - val_acc: 0.9819\n",
      "Epoch 19/20\n",
      "60000/60000 [==============================] - 7s - loss: 0.0287 - acc: 0.9915 - val_loss: 0.0553 - val_acc: 0.9817\n",
      "Epoch 20/20\n",
      "60000/60000 [==============================] - 7s - loss: 0.0271 - acc: 0.9915 - val_loss: 0.0561 - val_acc: 0.9817\n"
     ]
    }
   ],
   "source": [
    "model.compile(loss='categorical_crossentropy',\n",
    "              optimizer=SGD(lr=0.1),\n",
    "              metrics=['accuracy'])\n",
    "\n",
    "history = model.fit(X_train, Y_train,\n",
    "                    batch_size=batch_size, nb_epoch=nb_epoch,\n",
    "                    verbose=1, validation_data=(X_test, Y_test))\n",
    "score = model.evaluate(X_test, Y_test, verbose=0)"
   ]
  },
  {
   "cell_type": "code",
   "execution_count": 23,
   "metadata": {
    "collapsed": false
   },
   "outputs": [
    {
     "name": "stdout",
     "output_type": "stream",
     "text": [
      "Test score: 0.0561103144751\n",
      "Test accuracy: 0.9817\n"
     ]
    }
   ],
   "source": [
    "print 'Test score:', score[0]\n",
    "print 'Test accuracy:', score[1]"
   ]
  },
  {
   "cell_type": "code",
   "execution_count": null,
   "metadata": {
    "collapsed": true
   },
   "outputs": [],
   "source": []
  }
 ],
 "metadata": {
  "kernelspec": {
   "display_name": "Python 2",
   "language": "python",
   "name": "python2"
  },
  "language_info": {
   "codemirror_mode": {
    "name": "ipython",
    "version": 2
   },
   "file_extension": ".py",
   "mimetype": "text/x-python",
   "name": "python",
   "nbconvert_exporter": "python",
   "pygments_lexer": "ipython2",
   "version": "2.7.11"
  }
 },
 "nbformat": 4,
 "nbformat_minor": 0
}
